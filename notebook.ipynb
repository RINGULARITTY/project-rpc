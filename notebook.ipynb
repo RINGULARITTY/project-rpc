{
 "cells": [
  {
   "cell_type": "code",
   "execution_count": 1,
   "metadata": {},
   "outputs": [
    {
     "data": {
      "text/plain": [
       "([250, 150, 170],\n",
       " [[70, 150, 140],\n",
       "  [20, 90, 50],\n",
       "  [50, 20, 20],\n",
       "  [190, 170, 190],\n",
       "  [40, 150, 110],\n",
       "  [100, 130, 60],\n",
       "  [110, 190, 160],\n",
       "  [30, 20, 150],\n",
       "  [80, 110, 120],\n",
       "  [30, 160, 50],\n",
       "  [90, 10, 130],\n",
       "  [30, 150, 130],\n",
       "  [80, 140, 30],\n",
       "  [100, 160, 40],\n",
       "  [150, 100, 70],\n",
       "  [50, 160, 90],\n",
       "  [180, 40, 10],\n",
       "  [160, 120, 130],\n",
       "  [170, 140, 190],\n",
       "  [160, 20, 10],\n",
       "  [30, 80, 190],\n",
       "  [120, 30, 100],\n",
       "  [30, 160, 130],\n",
       "  [80, 160, 190],\n",
       "  [100, 30, 70],\n",
       "  [120, 180, 40],\n",
       "  [30, 90, 50],\n",
       "  [100, 110, 90],\n",
       "  [40, 40, 100],\n",
       "  [130, 110, 100],\n",
       "  [180, 50, 120],\n",
       "  [140, 60, 10],\n",
       "  [40, 90, 140],\n",
       "  [50, 90, 130],\n",
       "  [80, 120, 60],\n",
       "  [130, 20, 70],\n",
       "  [10, 100, 80],\n",
       "  [20, 190, 170],\n",
       "  [60, 150, 120],\n",
       "  [110, 40, 160],\n",
       "  [90, 170, 190],\n",
       "  [110, 60, 160],\n",
       "  [130, 160, 130],\n",
       "  [160, 20, 190],\n",
       "  [170, 10, 140],\n",
       "  [10, 40, 10],\n",
       "  [90, 20, 10],\n",
       "  [80, 80, 20],\n",
       "  [40, 140, 130],\n",
       "  [60, 30, 50],\n",
       "  [200, 170, 130],\n",
       "  [180, 60, 20],\n",
       "  [60, 50, 130],\n",
       "  [30, 200, 70],\n",
       "  [180, 100, 120],\n",
       "  [140, 150, 140],\n",
       "  [80, 40, 50],\n",
       "  [120, 160, 140],\n",
       "  [40, 140, 90],\n",
       "  [120, 50, 110],\n",
       "  [190, 50, 90],\n",
       "  [140, 10, 40],\n",
       "  [150, 10, 190],\n",
       "  [20, 150, 130],\n",
       "  [130, 190, 70],\n",
       "  [110, 150, 200],\n",
       "  [150, 60, 150],\n",
       "  [170, 40, 50],\n",
       "  [40, 200, 190],\n",
       "  [140, 180, 50],\n",
       "  [60, 110, 140],\n",
       "  [60, 40, 130],\n",
       "  [170, 100, 40],\n",
       "  [70, 150, 110],\n",
       "  [110, 10, 190],\n",
       "  [170, 130, 20],\n",
       "  [100, 20, 200],\n",
       "  [140, 40, 130],\n",
       "  [60, 20, 190],\n",
       "  [70, 140, 110],\n",
       "  [80, 170, 190],\n",
       "  [50, 20, 50],\n",
       "  [110, 80, 120],\n",
       "  [130, 180, 150],\n",
       "  [130, 80, 120],\n",
       "  [130, 70, 180],\n",
       "  [160, 20, 70]])"
      ]
     },
     "execution_count": 1,
     "metadata": {},
     "output_type": "execute_result"
    }
   ],
   "source": [
    "def get_parameters(filename):\n",
    "    with open(filename, \"r\") as f:\n",
    "        vehicle_size = [int(size) for size in f.readline().replace(\"\\n\", \"\").split(\" \")]\n",
    "        nb_items = int(f.readline().replace(\"\\n\", \"\"))\n",
    "        items_size = []\n",
    "        for line in f.readlines():\n",
    "            items_size.append([int(size) for size in line.replace(\"\\n\", \"\").split(\" \")])\n",
    "    \n",
    "    assert nb_items == len(items_size)\n",
    "    return vehicle_size, nb_items, items_size\n",
    "\n",
    "truck_dimensions, _, item_dimensions = get_parameters(\"input\")\n",
    "truck_dimensions, item_dimensions"
   ]
  },
  {
   "cell_type": "code",
   "execution_count": 2,
   "metadata": {},
   "outputs": [],
   "source": [
    "#truck_dimensions = [120, 330, 230]\n",
    "#item_dimensions = [[80, 30, 230], [50, 160, 50], [200, 200, 10], [10, 10, 10], [150, 10, 10], [500, 500, 500]]\n",
    "#nb_items = len(item_dimensions)\n",
    "\n",
    "#item_dimensions = item_dimensions[:12]"
   ]
  },
  {
   "cell_type": "code",
   "execution_count": 3,
   "metadata": {},
   "outputs": [
    {
     "data": {
      "text/plain": [
       "([0, 1, 2, 4, 5, 7, 8, 9, 10, 11],\n",
       " {0: (150.0, 0.0, 30.0),\n",
       "  1: (40.0, 0.0, 0.0),\n",
       "  2: (100.0, 30.0, 10.0),\n",
       "  4: (0.0, 0.0, 60.0),\n",
       "  5: (0.0, 20.0, 0.0),\n",
       "  7: (230.0, 0.0, 140.0),\n",
       "  8: (40.0, 30.0, 60.0),\n",
       "  9: (100.0, 0.0, 10.0),\n",
       "  10: (120.0, 20.0, 0.0),\n",
       "  11: (220.0, 0.0, 10.0)},\n",
       " {0: [1.0, 0.0, 0.0, 0.0, 0.0, 0.0],\n",
       "  1: [0.0, 0.0, 1.0, 0.0, 0.0, 0.0],\n",
       "  2: [0.0, 1.0, 0.0, 0.0, 0.0, 0.0],\n",
       "  4: [0.0, 0.0, 0.0, 1.0, 0.0, 0.0],\n",
       "  5: [0.0, 0.0, 0.0, 1.0, 0.0, 0.0],\n",
       "  7: [0.0, 0.0, 0.0, 0.0, 1.0, 0.0],\n",
       "  8: [0.0, 0.0, 0.0, 0.0, 1.0, 0.0],\n",
       "  9: [0.0, 0.0, 0.0, 0.0, 0.0, 1.0],\n",
       "  10: [0.0, 0.0, 1.0, 0.0, 0.0, 0.0],\n",
       "  11: [1.0, 0.0, 0.0, 0.0, 0.0, 0.0]})"
      ]
     },
     "execution_count": 3,
     "metadata": {},
     "output_type": "execute_result"
    }
   ],
   "source": [
    "import pulp\n",
    "\n",
    "def solve_packing_problem(truck_dims, items, weight_num_items, weight_volume):\n",
    "    model: pulp.LpProblem = pulp.LpProblem(\"Truck_packing_problem\", pulp.LpMaximize)\n",
    "    num_items = len(items)\n",
    "\n",
    "    x = pulp.LpVariable.dicts(\"x\", range(num_items), cat='Binary')\n",
    "    pos = pulp.LpVariable.dicts(\"pos\", [(i, j) for i in range(num_items) for j in range(3)], \n",
    "                                lowBound=0, cat='Continuous')\n",
    "    orientation = pulp.LpVariable.dicts(\"orientation\", \n",
    "                                        [(i, j) for i in range(num_items) for j in range(6)], \n",
    "                                        cat='Binary')\n",
    "\n",
    "    total_volume = sum(items[i][0] * items[i][1] * items[i][2] * x[i] for i in range(num_items))\n",
    "    total_items = sum(x[i] for i in range(num_items))\n",
    "    model += weight_num_items * total_items + weight_volume * total_volume\n",
    "\n",
    "    for i in range(num_items):\n",
    "        model += sum(orientation[(i, j)] for j in range(6)) == x[i]\n",
    "        for j in range(3):\n",
    "            real_dim = sum(orientation[(i, k)] * items[i][k % 3] for k in range(6))\n",
    "            model += pos[(i, j)] + real_dim <= truck_dims[j]\n",
    "\n",
    "    for i in range(num_items):\n",
    "        real_dim_i_x = sum(orientation[(i, k)] * items[i][k % 3] for k in range(6))\n",
    "        real_dim_i_y = sum(orientation[(i, k)] * items[i][(k + 1) % 3] for k in range(6))\n",
    "        real_dim_i_z = sum(orientation[(i, k)] * items[i][(k + 2) % 3] for k in range(6))\n",
    "\n",
    "        model += pos[(i, 0)] + real_dim_i_x <= truck_dims[0]\n",
    "        model += pos[(i, 1)] + real_dim_i_y <= truck_dims[1]\n",
    "        model += pos[(i, 2)] + real_dim_i_z <= truck_dims[2]\n",
    "\n",
    "        for j in range(i + 1, num_items):\n",
    "            real_dim_j_x = sum(orientation[(j, k)] * items[j][k % 3] for k in range(6))\n",
    "            real_dim_j_y = sum(orientation[(j, k)] * items[j][(k + 1) % 3] for k in range(6))\n",
    "            real_dim_j_z = sum(orientation[(j, k)] * items[j][(k + 2) % 3] for k in range(6))\n",
    "\n",
    "            left = pulp.LpVariable(f\"left_{i}_{j}\", cat='Binary')\n",
    "            right = pulp.LpVariable(f\"right_{i}_{j}\", cat='Binary')\n",
    "            above = pulp.LpVariable(f\"above_{i}_{j}\", cat='Binary')\n",
    "            below = pulp.LpVariable(f\"below_{i}_{j}\", cat='Binary')\n",
    "            front = pulp.LpVariable(f\"front_{i}_{j}\", cat='Binary')\n",
    "            back = pulp.LpVariable(f\"back_{i}_{j}\", cat='Binary')\n",
    "\n",
    "            model += pos[(i, 0)] + real_dim_i_x <= pos[(j, 0)] + truck_dims[0]*(1 - left)\n",
    "            model += pos[(j, 0)] + real_dim_j_x <= pos[(i, 0)] + truck_dims[0]*(1 - right)\n",
    "            model += pos[(i, 1)] + real_dim_i_y <= pos[(j, 1)] + truck_dims[1]*(1 - below)\n",
    "            model += pos[(j, 1)] + real_dim_j_y <= pos[(i, 1)] + truck_dims[1]*(1 - above)\n",
    "            model += pos[(i, 2)] + real_dim_i_z <= pos[(j, 2)] + truck_dims[2]*(1 - back)\n",
    "            model += pos[(j, 2)] + real_dim_j_z <= pos[(i, 2)] + truck_dims[2]*(1 - front)\n",
    "\n",
    "            model += left + right + above + below + front + back >= x[i] + x[j] - 1\n",
    "\n",
    "\n",
    "    model.solve()\n",
    "    packed_items = [i for i in range(num_items) if pulp.value(x[i]) == 1]\n",
    "    positions = {i: (pulp.value(pos[(i, 0)]), pulp.value(pos[(i, 1)]), pulp.value(pos[(i, 2)])) \n",
    "                 for i in packed_items}\n",
    "    orientations = {i: [pulp.value(orientation[(i, j)]) for j in range(6)] \n",
    "                    for i in packed_items}\n",
    "    return packed_items, positions, orientations\n",
    "\n",
    "weight_num_items = 1\n",
    "weight_volume = 5\n",
    "\n",
    "packed_items, positions, orientations = solve_packing_problem(truck_dimensions, item_dimensions, weight_num_items, weight_volume)\n",
    "packed_items, positions, orientations"
   ]
  },
  {
   "cell_type": "code",
   "execution_count": 4,
   "metadata": {},
   "outputs": [],
   "source": [
    "def convert_to_output_format(packed_items, positions, orientations, items, file_path):\n",
    "    with open(file_path, 'w') as file:\n",
    "        file.write(\"SAT\\n\")\n",
    "        for i in packed_items:\n",
    "            x1, y1, z1 = positions[i]\n",
    "            dim_x = sum(orientations[i][k] * items[i][k % 3] for k in range(6))\n",
    "            dim_y = sum(orientations[i][k] * items[i][(k + 1) % 3] for k in range(6))\n",
    "            dim_z = sum(orientations[i][k] * items[i][(k + 2) % 3] for k in range(6))\n",
    "            x2, y2, z2 = x1 + dim_x, y1 + dim_y, z1 + dim_z\n",
    "\n",
    "            file.write(f\"0 {int(x1)} {int(y1)} {int(z1)} {int(x2)} {int(y2)} {int(z2)}\\n\")\n",
    "\n",
    "file_path = 'output.txt'\n",
    "\n",
    "convert_to_output_format(packed_items, positions, orientations, item_dimensions, file_path)"
   ]
  },
  {
   "cell_type": "code",
   "execution_count": 5,
   "metadata": {},
   "outputs": [
    {
     "data": {
      "text/plain": [
       "'python visualize.py output.txt --truck-dimensions \"250x150x170\"'"
      ]
     },
     "execution_count": 5,
     "metadata": {},
     "output_type": "execute_result"
    }
   ],
   "source": [
    "f\"python visualize.py output.txt --truck-dimensions \\\"{'x'.join([str(dim) for dim in truck_dimensions])}\\\"\""
   ]
  },
  {
   "cell_type": "code",
   "execution_count": 6,
   "metadata": {},
   "outputs": [
    {
     "data": {
      "text/plain": [
       "([0, 1, 2, 4, 7, 8, 10, 11],\n",
       " [(0, 0, 0),\n",
       "  (70, 0, 0),\n",
       "  (90, 10, 0),\n",
       "  (180, 0, 0),\n",
       "  (90, 120, 0),\n",
       "  (70, 10, 50),\n",
       "  (90, 0, 0),\n",
       "  (220, 0, 0)])"
      ]
     },
     "execution_count": 6,
     "metadata": {},
     "output_type": "execute_result"
    }
   ],
   "source": [
    "from ortools.sat.python import cp_model\n",
    "\n",
    "def solve_packing_problem_cp(truck_dims, items):\n",
    "    model = cp_model.CpModel()\n",
    "\n",
    "    num_items = len(items)\n",
    "    x = [model.NewIntVar(0, truck_dims[0], f'x[{i}]') for i in range(num_items)]\n",
    "    y = [model.NewIntVar(0, truck_dims[1], f'y[{i}]') for i in range(num_items)]\n",
    "    z = [model.NewIntVar(0, truck_dims[2], f'z[{i}]') for i in range(num_items)]\n",
    "    used = [model.NewBoolVar(f'used[{i}]') for i in range(num_items)]\n",
    "\n",
    "    for i in range(num_items):\n",
    "        model.Add(x[i] + items[i][0] <= truck_dims[0]).OnlyEnforceIf(used[i])\n",
    "        model.Add(y[i] + items[i][1] <= truck_dims[1]).OnlyEnforceIf(used[i])\n",
    "        model.Add(z[i] + items[i][2] <= truck_dims[2]).OnlyEnforceIf(used[i])\n",
    "\n",
    "    for i in range(num_items):\n",
    "        for j in range(i + 1, num_items):\n",
    "            left = model.NewBoolVar(f'left_{i}_{j}')\n",
    "            right = model.NewBoolVar(f'right_{i}_{j}')\n",
    "            above = model.NewBoolVar(f'above_{i}_{j}')\n",
    "            below = model.NewBoolVar(f'below_{i}_{j}')\n",
    "            front = model.NewBoolVar(f'front_{i}_{j}')\n",
    "            back = model.NewBoolVar(f'back_{i}_{j}')\n",
    "\n",
    "            model.Add(x[i] + items[i][0] <= x[j]).OnlyEnforceIf(left)\n",
    "            model.Add(x[j] + items[j][0] <= x[i]).OnlyEnforceIf(right)\n",
    "            model.Add(y[i] + items[i][1] <= y[j]).OnlyEnforceIf(below)\n",
    "            model.Add(y[j] + items[j][1] <= y[i]).OnlyEnforceIf(above)\n",
    "            model.Add(z[i] + items[i][2] <= z[j]).OnlyEnforceIf(back)\n",
    "            model.Add(z[j] + items[j][2] <= z[i]).OnlyEnforceIf(front)\n",
    "\n",
    "            model.AddBoolOr([left, right, above, below, front, back, used[i].Not(), used[j].Not()])\n",
    "\n",
    "    model.Maximize(sum(used))\n",
    "\n",
    "    solver = cp_model.CpSolver()\n",
    "    status = solver.Solve(model)\n",
    "\n",
    "    if status == cp_model.OPTIMAL:\n",
    "        packed_items = [i for i in range(num_items) if solver.Value(used[i]) == 1]\n",
    "        positions = [(solver.Value(x[i]), solver.Value(y[i]), solver.Value(z[i])) for i in packed_items]\n",
    "        return packed_items, positions\n",
    "    else:\n",
    "        return [], []\n",
    "\n",
    "items, positions = solve_packing_problem_cp(truck_dimensions, item_dimensions)\n",
    "items, positions"
   ]
  },
  {
   "cell_type": "code",
   "execution_count": 8,
   "metadata": {},
   "outputs": [
    {
     "data": {
      "text/plain": [
       "'python visualize.py output_cp.txt --truck-dimensions \"250x150x170\"'"
      ]
     },
     "execution_count": 8,
     "metadata": {},
     "output_type": "execute_result"
    }
   ],
   "source": [
    "from random import randint\n",
    "\n",
    "with open(\"output_cp.txt\", 'w') as file:\n",
    "    file.write(\"SAT\\n\")\n",
    "    for i, item_id in enumerate(items):\n",
    "        file.write(f\"{0} {positions[i][0]} {positions[i][1]} {positions[i][2]} {positions[i][0] + item_dimensions[item_id][0]} {positions[i][1] + item_dimensions[item_id][1]} {positions[i][2] + item_dimensions[item_id][2]}\\n\")\n",
    "f\"python visualize.py output_cp.txt --truck-dimensions \\\"{'x'.join([str(dim) for dim in truck_dimensions])}\\\"\""
   ]
  }
 ],
 "metadata": {
  "kernelspec": {
   "display_name": "ml",
   "language": "python",
   "name": "python3"
  },
  "language_info": {
   "codemirror_mode": {
    "name": "ipython",
    "version": 3
   },
   "file_extension": ".py",
   "mimetype": "text/x-python",
   "name": "python",
   "nbconvert_exporter": "python",
   "pygments_lexer": "ipython3",
   "version": "3.8.18"
  }
 },
 "nbformat": 4,
 "nbformat_minor": 2
}
