{
 "cells": [
  {
   "cell_type": "code",
   "execution_count": 1,
   "metadata": {},
   "outputs": [
    {
     "data": {
      "text/plain": [
       "([320, 170, 170],\n",
       " [[50, 10, 190],\n",
       "  [190, 190, 20],\n",
       "  [110, 110, 150],\n",
       "  [160, 40, 140],\n",
       "  [90, 80, 120],\n",
       "  [20, 150, 170],\n",
       "  [10, 120, 160],\n",
       "  [80, 30, 150],\n",
       "  [90, 130, 140],\n",
       "  [90, 60, 110],\n",
       "  [90, 70, 40],\n",
       "  [70, 80, 100],\n",
       "  [70, 40, 30],\n",
       "  [170, 190, 180],\n",
       "  [30, 110, 60],\n",
       "  [70, 140, 80],\n",
       "  [40, 80, 160],\n",
       "  [50, 150, 90],\n",
       "  [160, 90, 160],\n",
       "  [110, 140, 190],\n",
       "  [140, 110, 70],\n",
       "  [40, 30, 70],\n",
       "  [80, 150, 170],\n",
       "  [190, 10, 80],\n",
       "  [170, 120, 90],\n",
       "  [150, 30, 110]])"
      ]
     },
     "execution_count": 1,
     "metadata": {},
     "output_type": "execute_result"
    }
   ],
   "source": [
    "def get_parameters(filename):\n",
    "    with open(filename, \"r\") as f:\n",
    "        vehicle_size = [int(size) for size in f.readline().replace(\"\\n\", \"\").split(\" \")]\n",
    "        nb_items = int(f.readline().replace(\"\\n\", \"\"))\n",
    "        items_size = []\n",
    "        for line in f.readlines():\n",
    "            items_size.append([int(size) for size in line.replace(\"\\n\", \"\").split(\" \")])\n",
    "    \n",
    "    assert nb_items == len(items_size)\n",
    "    return vehicle_size, nb_items, items_size\n",
    "\n",
    "truck_dimensions, _, item_dimensions = get_parameters(\"input\")\n",
    "truck_dimensions, item_dimensions"
   ]
  },
  {
   "cell_type": "code",
   "execution_count": 2,
   "metadata": {},
   "outputs": [],
   "source": [
    "#truck_dimensions = [120, 330, 230]\n",
    "#item_dimensions = [[80, 30, 230], [50, 160, 50], [200, 200, 10], [10, 10, 10], [150, 10, 10], [500, 500, 500]]\n",
    "#nb_items = len(item_dimensions)\n",
    "\n",
    "item_dimensions = item_dimensions[:14]"
   ]
  },
  {
   "cell_type": "code",
   "execution_count": 3,
   "metadata": {},
   "outputs": [
    {
     "name": "stdout",
     "output_type": "stream",
     "text": [
      "95000\n",
      "722000\n",
      "1815000\n",
      "896000\n",
      "864000\n",
      "510000\n",
      "192000\n",
      "360000\n",
      "1638000\n",
      "594000\n",
      "252000\n",
      "560000\n",
      "84000\n",
      "5814000\n"
     ]
    }
   ],
   "source": [
    "for item_size in item_dimensions:\n",
    "    print(item_size[0] * item_size[1] * item_size[2])"
   ]
  },
  {
   "cell_type": "markdown",
   "metadata": {},
   "source": [
    "|✅|❌\n",
    "|:-:|:-:\n",
    "|Pieces|Position\n",
    "|Overlap|Rotation\n",
    "|Max Pieces|Truck size\n",
    "||Max Items Volume|"
   ]
  },
  {
   "cell_type": "code",
   "execution_count": 4,
   "metadata": {},
   "outputs": [
    {
     "name": "stdout",
     "output_type": "stream",
     "text": [
      "[0, 1, 2, 3, 4, 5, 6, 7, 8, 9, 10, 11, 12, 13]\n"
     ]
    }
   ],
   "source": [
    "import pulp\n",
    "\n",
    "def solve_packing_problem(items, weight_num_items):\n",
    "    model = pulp.LpProblem(\"Truck_packing_problem\", pulp.LpMaximize)\n",
    "    num_items = len(items)\n",
    "\n",
    "    x = pulp.LpVariable.dicts(\"x\", range(num_items), cat='Binary')\n",
    "\n",
    "    total_items = sum(x[i] for i in range(num_items))\n",
    "    model += weight_num_items * total_items \n",
    "\n",
    "    model.solve()\n",
    "    packed_items = [i for i in range(num_items) if pulp.value(x[i]) == 1]\n",
    "    return packed_items\n",
    "\n",
    "weight_num_items = 10\n",
    "\n",
    "packed_items = solve_packing_problem(item_dimensions, weight_num_items)\n",
    "print(packed_items)"
   ]
  },
  {
   "cell_type": "markdown",
   "metadata": {},
   "source": [
    "|✅|❌\n",
    "|:-:|:-:\n",
    "|Pieces|Rotation\n",
    "|Overlap|\n",
    "|Max Pieces|\n",
    "|Position|\n",
    "|Truck size|\n",
    "|Max Items Volume|"
   ]
  },
  {
   "cell_type": "code",
   "execution_count": 5,
   "metadata": {},
   "outputs": [
    {
     "name": "stdout",
     "output_type": "stream",
     "text": [
      "Items packed: [2]\n",
      "Positions: {2: (0.0, 0.0, 0.0)}\n"
     ]
    }
   ],
   "source": [
    "import pulp\n",
    "\n",
    "def solve_packing_problem(truck_dims, items, weight_num_items, weight_volume):\n",
    "    model = pulp.LpProblem(\"Truck_packing_problem\", pulp.LpMaximize)\n",
    "    num_items = len(items)\n",
    "\n",
    "    x = pulp.LpVariable.dicts(\"x\", range(num_items), cat='Binary')\n",
    "    pos = pulp.LpVariable.dicts(\"pos\", [(i, j) for i in range(num_items) for j in range(3)], \n",
    "                                lowBound=0, cat='Continuous')\n",
    "\n",
    "    total_volume = sum(items[i][0] * items[i][1] * items[i][2] * x[i] for i in range(num_items))\n",
    "    total_items = sum(x[i] for i in range(num_items))\n",
    "    model += weight_num_items * total_items + weight_volume * total_volume\n",
    "\n",
    "    for i in range(num_items):\n",
    "        for j in range(3):\n",
    "            model += pos[(i, j)] + items[i][j] * x[i] <= truck_dims[j]\n",
    "\n",
    "    for i in range(num_items):\n",
    "        for j in range(i + 1, num_items):\n",
    "            model += x[i] + x[j] <= 1\n",
    "\n",
    "    model.solve()\n",
    "    packed_items = [i for i in range(num_items) if pulp.value(x[i]) == 1]\n",
    "    positions = {i: (pulp.value(pos[(i, 0)]), pulp.value(pos[(i, 1)]), pulp.value(pos[(i, 2)])) \n",
    "                 for i in packed_items}\n",
    "    return packed_items, positions\n",
    "\n",
    "weight_num_items = 2\n",
    "weight_volume = 10\n",
    "\n",
    "packed_items, positions = solve_packing_problem(truck_dimensions, item_dimensions, weight_num_items, weight_volume)\n",
    "print(\"Items packed:\", packed_items)\n",
    "print(\"Positions:\", positions)"
   ]
  },
  {
   "cell_type": "markdown",
   "metadata": {},
   "source": [
    "|✅|❌\n",
    "|:-:|:-:\n",
    "|Pieces|\n",
    "|Overlap|\n",
    "|Max Pieces|\n",
    "|Position|\n",
    "|Truck size|\n",
    "|Max Items Volume|\n",
    "|Rotation|"
   ]
  },
  {
   "cell_type": "code",
   "execution_count": 6,
   "metadata": {},
   "outputs": [
    {
     "data": {
      "text/plain": [
       "([2, 3, 4, 5, 6, 7, 8, 9, 10, 11, 12],\n",
       " {2: (80.0, 60.0, 20.0),\n",
       "  3: (280.0, 0.0, 0.0),\n",
       "  4: (0.0, 50.0, 80.0),\n",
       "  5: (120.0, 0.0, 0.0),\n",
       "  6: (0.0, 0.0, 0.0),\n",
       "  7: (0.0, 0.0, 20.0),\n",
       "  8: (190.0, 40.0, 20.0),\n",
       "  9: (80.0, 0.0, 20.0),\n",
       "  10: (210.0, 0.0, 80.0),\n",
       "  11: (0.0, 70.0, 10.0),\n",
       "  12: (210.0, 0.0, 20.0)},\n",
       " {2: [1.0, 0.0, 0.0, 0.0, 0.0, 0.0],\n",
       "  3: [0.0, 1.0, 0.0, 0.0, 0.0, 0.0],\n",
       "  4: [0.0, 1.0, 0.0, 0.0, 0.0, 0.0],\n",
       "  5: [0.0, 1.0, 0.0, 0.0, 0.0, 0.0],\n",
       "  6: [0.0, 1.0, 0.0, 0.0, 0.0, 0.0],\n",
       "  7: [0.0, 0.0, 0.0, 1.0, 0.0, 0.0],\n",
       "  8: [0.0, 0.0, 0.0, 1.0, 0.0, 0.0],\n",
       "  9: [0.0, 0.0, 0.0, 1.0, 0.0, 0.0],\n",
       "  10: [0.0, 0.0, 0.0, 0.0, 1.0, 0.0],\n",
       "  11: [0.0, 1.0, 0.0, 0.0, 0.0, 0.0],\n",
       "  12: [0.0, 0.0, 0.0, 1.0, 0.0, 0.0]})"
      ]
     },
     "execution_count": 6,
     "metadata": {},
     "output_type": "execute_result"
    }
   ],
   "source": [
    "import pulp\n",
    "\n",
    "def solve_packing_problem(truck_dims, items, weight_num_items, weight_volume):\n",
    "    model: pulp.LpProblem = pulp.LpProblem(\"Truck_packing_problem\", pulp.LpMaximize)\n",
    "    num_items = len(items)\n",
    "\n",
    "    x = pulp.LpVariable.dicts(\"x\", range(num_items), cat='Binary')\n",
    "    pos = pulp.LpVariable.dicts(\"pos\", [(i, j) for i in range(num_items) for j in range(3)], \n",
    "                                lowBound=0, cat='Continuous')\n",
    "    orientation = pulp.LpVariable.dicts(\"orientation\", \n",
    "                                        [(i, j) for i in range(num_items) for j in range(6)], \n",
    "                                        cat='Binary')\n",
    "\n",
    "    total_volume = sum(items[i][0] * items[i][1] * items[i][2] * x[i] for i in range(num_items))\n",
    "    total_items = sum(x[i] for i in range(num_items))\n",
    "    model += weight_num_items * total_items + weight_volume * total_volume\n",
    "\n",
    "    for i in range(num_items):\n",
    "        model += sum(orientation[(i, j)] for j in range(6)) == x[i]\n",
    "        for j in range(3):\n",
    "            real_dim = sum(orientation[(i, k)] * items[i][k % 3] for k in range(6))\n",
    "            model += pos[(i, j)] + real_dim <= truck_dims[j]\n",
    "\n",
    "    for i in range(num_items):\n",
    "        real_dim_i_x = sum(orientation[(i, k)] * items[i][k % 3] for k in range(6))\n",
    "        real_dim_i_y = sum(orientation[(i, k)] * items[i][(k + 1) % 3] for k in range(6))\n",
    "        real_dim_i_z = sum(orientation[(i, k)] * items[i][(k + 2) % 3] for k in range(6))\n",
    "\n",
    "        # Assurer que chaque pièce rentre dans le camion\n",
    "        model += pos[(i, 0)] + real_dim_i_x <= truck_dims[0]\n",
    "        model += pos[(i, 1)] + real_dim_i_y <= truck_dims[1]\n",
    "        model += pos[(i, 2)] + real_dim_i_z <= truck_dims[2]\n",
    "\n",
    "        # Contraintes de non-chevauchement\n",
    "        for j in range(i + 1, num_items):\n",
    "            # Calculer les dimensions réelles de l'item j\n",
    "            real_dim_j_x = sum(orientation[(j, k)] * items[j][k % 3] for k in range(6))\n",
    "            real_dim_j_y = sum(orientation[(j, k)] * items[j][(k + 1) % 3] for k in range(6))\n",
    "            real_dim_j_z = sum(orientation[(j, k)] * items[j][(k + 2) % 3] for k in range(6))\n",
    "\n",
    "            left = pulp.LpVariable(f\"left_{i}_{j}\", cat='Binary')\n",
    "            right = pulp.LpVariable(f\"right_{i}_{j}\", cat='Binary')\n",
    "            above = pulp.LpVariable(f\"above_{i}_{j}\", cat='Binary')\n",
    "            below = pulp.LpVariable(f\"below_{i}_{j}\", cat='Binary')\n",
    "            front = pulp.LpVariable(f\"front_{i}_{j}\", cat='Binary')\n",
    "            back = pulp.LpVariable(f\"back_{i}_{j}\", cat='Binary')\n",
    "\n",
    "            model += pos[(i, 0)] + real_dim_i_x <= pos[(j, 0)] + truck_dims[0]*(1 - left)\n",
    "            model += pos[(j, 0)] + real_dim_j_x <= pos[(i, 0)] + truck_dims[0]*(1 - right)\n",
    "            model += pos[(i, 1)] + real_dim_i_y <= pos[(j, 1)] + truck_dims[1]*(1 - below)\n",
    "            model += pos[(j, 1)] + real_dim_j_y <= pos[(i, 1)] + truck_dims[1]*(1 - above)\n",
    "            model += pos[(i, 2)] + real_dim_i_z <= pos[(j, 2)] + truck_dims[2]*(1 - back)\n",
    "            model += pos[(j, 2)] + real_dim_j_z <= pos[(i, 2)] + truck_dims[2]*(1 - front)\n",
    "\n",
    "            model += left + right + above + below + front + back >= x[i] + x[j] - 1\n",
    "\n",
    "\n",
    "    model.solve()\n",
    "    packed_items = [i for i in range(num_items) if pulp.value(x[i]) == 1]\n",
    "    positions = {i: (pulp.value(pos[(i, 0)]), pulp.value(pos[(i, 1)]), pulp.value(pos[(i, 2)])) \n",
    "                 for i in packed_items}\n",
    "    orientations = {i: [pulp.value(orientation[(i, j)]) for j in range(6)] \n",
    "                    for i in packed_items}\n",
    "    return packed_items, positions, orientations\n",
    "\n",
    "weight_num_items = 1\n",
    "weight_volume = 5\n",
    "\n",
    "packed_items, positions, orientations = solve_packing_problem(truck_dimensions, item_dimensions, weight_num_items, weight_volume)\n",
    "packed_items, positions, orientations"
   ]
  },
  {
   "cell_type": "code",
   "execution_count": 7,
   "metadata": {},
   "outputs": [],
   "source": [
    "def convert_to_output_format(packed_items, positions, orientations, items, file_path):\n",
    "    with open(file_path, 'w') as file:\n",
    "        file.write(\"SAT\\n\")\n",
    "        for i in packed_items:\n",
    "            x1, y1, z1 = positions[i]\n",
    "            dim_x = sum(orientations[i][k] * items[i][k % 3] for k in range(6))\n",
    "            dim_y = sum(orientations[i][k] * items[i][(k + 1) % 3] for k in range(6))\n",
    "            dim_z = sum(orientations[i][k] * items[i][(k + 2) % 3] for k in range(6))\n",
    "            x2, y2, z2 = x1 + dim_x, y1 + dim_y, z1 + dim_z\n",
    "\n",
    "            file.write(f\"0 {int(x1)} {int(y1)} {int(z1)} {int(x2)} {int(y2)} {int(z2)}\\n\")\n",
    "\n",
    "file_path = 'output.txt'\n",
    "\n",
    "convert_to_output_format(packed_items, positions, orientations, item_dimensions, file_path)"
   ]
  },
  {
   "cell_type": "code",
   "execution_count": 8,
   "metadata": {},
   "outputs": [
    {
     "data": {
      "text/plain": [
       "'python visualize.py output.txt --truck-dimensions \"320x170x170\"'"
      ]
     },
     "execution_count": 8,
     "metadata": {},
     "output_type": "execute_result"
    }
   ],
   "source": [
    "f\"python visualize.py output.txt --truck-dimensions \\\"{'x'.join([str(dim) for dim in truck_dimensions])}\\\"\""
   ]
  }
 ],
 "metadata": {
  "kernelspec": {
   "display_name": "ml",
   "language": "python",
   "name": "python3"
  },
  "language_info": {
   "codemirror_mode": {
    "name": "ipython",
    "version": 3
   },
   "file_extension": ".py",
   "mimetype": "text/x-python",
   "name": "python",
   "nbconvert_exporter": "python",
   "pygments_lexer": "ipython3",
   "version": "3.11.5"
  }
 },
 "nbformat": 4,
 "nbformat_minor": 2
}
